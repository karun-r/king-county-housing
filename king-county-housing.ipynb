{
 "cells": [
  {
   "cell_type": "code",
   "execution_count": 1,
   "metadata": {},
   "outputs": [
    {
     "name": "stdout",
     "output_type": "stream",
     "text": [
      "Features and Prices are separated.\nPrices have 21613 data points\nFeatures have 21613 data points with 20 features\n"
     ]
    }
   ],
   "source": [
    "from sklearn.cross_validation import train_test_split\n",
    "from sklearn.feature_selection import RFE\n",
    "from sklearn.linear_model import LinearRegression\n",
    "import matplotlib.pyplot as plt\n",
    "import pandas as pd\n",
    "init_data =  pd.read_csv('kc_house_data.csv')\n",
    "house_prices = init_data['price']\n",
    "feature_data = init_data.drop('price', axis=1)  # axis =1 denotes to drop the column\n",
    "print \"Features and Prices are separated.\"\n",
    "print \"Prices have {} data points\".format(*house_prices.shape)\n",
    "print \"Features have {} data points with {} features\".format(*feature_data.shape)"
   ]
  },
  {
   "cell_type": "code",
   "execution_count": 3,
   "metadata": {
    "collapsed": false
   },
   "outputs": [
    {
     "name": "stdout",
     "output_type": "stream",
     "text": [
      "Using RFE, we determined the optimum features that we can use to build a reliable model.\nAnd the features are:\nbedrooms\nbathrooms\nsqft_living\nsqft_lot\nwaterfront\nview\ngrade\nsqft_above\nsqft_basement\nyr_built\nzipcode\nlat\nlong\nsqft_living15\nsqft_lot15\n"
     ]
    }
   ],
   "source": [
    "#feature_data.drop('date',axis=1, inplace= True) # Drop Date column\n",
    "#feature_data.drop('id',axis=1, inplace=True) # Drop ID column\n",
    "feature_data = (feature_data - feature_data.mean())/(feature_data.max() - feature_data.min()) # Normalize data\n",
    "feature_train,feature_test,price_train,price_test = train_test_split(feature_data,house_prices) # Split data\n",
    "lreg =  LinearRegression()\n",
    "rf = RFE(lreg,15,step=1)\n",
    "rf.fit(feature_train,price_train)\n",
    "rf.support_\n",
    "print \"Using RFE, we determined the optimum features that we can use to build a reliable model.\"\n",
    "print \"And the features are:\"\n",
    "for i in range(0,feature_train.shape[1]):\n",
    "    if rf.support_[i]:\n",
    "        print feature_train.iloc[0:,i].name"
   ]
  },
  {
   "cell_type": "code",
   "execution_count": 6,
   "metadata": {
    "collapsed": false
   },
   "outputs": [
    {
     "name": "stdout",
     "output_type": "stream",
     "text": [
      "0.706436140894\n"
     ]
    }
   ],
   "source": [
    "selected_feature_train = feature_train[['zipcode','bedrooms','view','bathrooms','lat','sqft_living','sqft_lot','sqft_lot15','waterfront','grade','sqft_above','yr_built','sqft_basement']]\n",
    "selected_feature_test = feature_test[['zipcode','bedrooms','view','bathrooms','lat','sqft_living','sqft_lot','sqft_lot15','waterfront','grade','sqft_above','yr_built','sqft_basement']]\n",
    "lreg.fit(selected_feature_train,price_train)\n",
    "pred = lreg.predict(selected_feature_test)\n",
    "from sklearn.metrics import r2_score, mean_squared_error\n",
    "score = r2_score(price_test,pred)\n",
    "print score"
   ]
  },
  {
   "cell_type": "code",
   "execution_count": 8,
   "metadata": {
    "collapsed": true
   },
   "outputs": [
    {
     "ename": "SyntaxError",
     "evalue": "invalid syntax (<ipython-input-8-dc0be811269a>, line 3)",
     "traceback": [
      "\u001b[0;36m  File \u001b[0;32m\"<ipython-input-8-dc0be811269a>\"\u001b[0;36m, line \u001b[0;32m3\u001b[0m\n\u001b[0;31m    def r2score(train_set_input, train_set_output validation_set_input, validation_set_output, feature_set, appending_input):\u001b[0m\n\u001b[0m                                                                     ^\u001b[0m\n\u001b[0;31mSyntaxError\u001b[0m\u001b[0;31m:\u001b[0m invalid syntax\n"
     ],
     "output_type": "error"
    }
   ],
   "source": [
    "# Trying another approach to improve the accuracy score from 0.7\n",
    "feature_train_2, feature_validate, price_train_2, price_validate = train_test_split(feature_train,price_train)\n",
    "def r2score(train_set_input, train_set_output validation_set_input, validation_set_output, feature_set, appending_input):\n",
    "    features = list(feature_set)\n",
    "    features.append(appending_input)\n",
    "    rg = LinearRegression()\n",
    "    rg.fit(train_set_input.as_matrix(columns=features),train_set_output)\n",
    "    predicted_val_train = rg.predict(train_set_input.as_matrix(columns=features))\n",
    "    train_r2 = r2_score(train_set_output,predicted_val_train)\n",
    "    predicted_val_test = rg.predict(validation_set_input.as_matrix(columns=features))\n",
    "    val_r2 = r2_score(validation_set_output, predicted_val_test)\n",
    "    return train_r2, val_r2"
   ]
  },
  {
   "cell_type": "code",
   "execution_count": null,
   "metadata": {},
   "outputs": [],
   "source": [
    ""
   ]
  }
 ],
 "metadata": {
  "kernelspec": {
   "display_name": "Python 2",
   "language": "python",
   "name": "python2"
  },
  "language_info": {
   "codemirror_mode": {
    "name": "ipython",
    "version": 2.0
   },
   "file_extension": ".py",
   "mimetype": "text/x-python",
   "name": "python",
   "nbconvert_exporter": "python",
   "pygments_lexer": "ipython2",
   "version": "2.7.13"
  }
 },
 "nbformat": 4,
 "nbformat_minor": 0
}